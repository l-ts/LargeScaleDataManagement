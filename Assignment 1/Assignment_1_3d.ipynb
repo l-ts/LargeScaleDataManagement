{
 "cells": [
  {
   "cell_type": "markdown",
   "metadata": {},
   "source": [
    "# Leonidas Tsolas\n",
    "# 1st Assignment  \n",
    "\n",
    "Implementation uses module psycopg2. \n",
    "\n",
    "Install requires running 'pip install psycopg2' in Anaconda root mode."
   ]
  },
  {
   "cell_type": "code",
   "execution_count": 1,
   "metadata": {
    "collapsed": true
   },
   "outputs": [],
   "source": [
    "import psycopg2 # import psycopg2 module"
   ]
  },
  {
   "cell_type": "code",
   "execution_count": 2,
   "metadata": {},
   "outputs": [
    {
     "name": "stdout",
     "output_type": "stream",
     "text": [
      "Connection to database succeeded\n"
     ]
    }
   ],
   "source": [
    "# connect to db. Replace dbname,user and password if required\n",
    "\n",
    "try:\n",
    "    conn = psycopg2.connect(\"dbname='Project1' user='postgres' host='localhost' password='leo'\")\n",
    "    print('Connection to database succeeded')\n",
    "except:\n",
    "    print(\"Failed to connect to the database\")"
   ]
  },
  {
   "cell_type": "code",
   "execution_count": 3,
   "metadata": {
    "collapsed": true
   },
   "outputs": [],
   "source": [
    "# define a cursor in python\n",
    "\n",
    "cur = conn.cursor() "
   ]
  },
  {
   "cell_type": "code",
   "execution_count": 4,
   "metadata": {
    "collapsed": true
   },
   "outputs": [],
   "source": [
    "# select start_node, end_node and distance from streets table\n",
    "\n",
    "cur.execute(\"\"\"SELECT a,b,d from streets\"\"\")\n",
    "rows = cur.fetchall()"
   ]
  },
  {
   "cell_type": "code",
   "execution_count": 5,
   "metadata": {},
   "outputs": [
    {
     "name": "stdout",
     "output_type": "stream",
     "text": [
      "('AUEB', 'DooHickey Collective', 7)\n",
      "('DooHickey Collective', 'AUEB', 7)\n",
      "('DooHickey Collective', 'Gizmo Corp', 2)\n",
      "('Gizmo Corp', 'DooHickey Collective', 2)\n",
      "('AUEB', 'Gadget Corp', 6)\n",
      "('Gadget Corp', 'AUEB', 6)\n",
      "('Gadget Corp', 'DooHickey Corp', 3)\n",
      "('DooHickey Corp', 'Gadget Corp', 3)\n",
      "('Gizmo Corp', 'GadgetWorks', 8)\n",
      "('GadgetWorks', 'Gizmo Corp', 8)\n",
      "('AUEB', 'Gadget Collective', 9)\n",
      "('Gadget Collective', 'AUEB', 9)\n",
      "('Gizmo Corp', 'Widget Industries', 1)\n",
      "('Widget Industries', 'Gizmo Corp', 1)\n",
      "('Gadget Corp', 'Gadget Industries', 9)\n",
      "('Gadget Industries', 'Gadget Corp', 9)\n",
      "('DooHickey Corp', 'DooHickeyWorks', 3)\n",
      "('DooHickeyWorks', 'DooHickey Corp', 3)\n",
      "('Gadget Industries', 'Widget Corp', 5)\n",
      "('Widget Corp', 'Gadget Industries', 5)\n",
      "('DooHickey Corp', 'ThingCo', 6)\n",
      "('ThingCo', 'DooHickey Corp', 6)\n",
      "('Gadget Collective', 'GizmoWorks', 3)\n",
      "('GizmoWorks', 'Gadget Collective', 3)\n",
      "('Widget Industries', 'Gizmo Industries', 1)\n",
      "('Gizmo Industries', 'Widget Industries', 1)\n",
      "('DooHickeyWorks', 'Thing Industries', 1)\n",
      "('Thing Industries', 'DooHickeyWorks', 1)\n",
      "('Thing Industries', 'Widget Collective', 2)\n",
      "('Widget Collective', 'Thing Industries', 2)\n",
      "('Thing Industries', 'Gizmo Collective', 3)\n",
      "('Gizmo Collective', 'Thing Industries', 3)\n",
      "('Widget Collective', 'DooHickeyCo', 2)\n",
      "('DooHickeyCo', 'Widget Collective', 2)\n",
      "('DooHickeyCo', 'Thing Collective', 9)\n",
      "('Thing Collective', 'DooHickeyCo', 9)\n",
      "('DooHickeyCo', 'Thing Corp', 6)\n",
      "('Thing Corp', 'DooHickeyCo', 6)\n",
      "('Widget Collective', 'WidgetWorks', 1)\n",
      "('WidgetWorks', 'Widget Collective', 1)\n",
      "('Widget Collective', 'GadgetCo', 7)\n",
      "('GadgetCo', 'Widget Collective', 7)\n",
      "('Thing Corp', 'GizmoCo', 4)\n",
      "('GizmoCo', 'Thing Corp', 4)\n",
      "('Thing Corp', 'DooHickey Industries', 3)\n",
      "('DooHickey Industries', 'Thing Corp', 3)\n",
      "('DooHickey Industries', 'WidgetCo', 1)\n",
      "('WidgetCo', 'DooHickey Industries', 1)\n",
      "('GizmoCo', 'ThingWorks', 5)\n",
      "('ThingWorks', 'GizmoCo', 5)\n",
      "('GadgetCo', 'Thing Industries', 9)\n",
      "('Thing Industries', 'GadgetCo', 9)\n"
     ]
    }
   ],
   "source": [
    "# create list edges with format (start_node, end_node, distance)\n",
    "\n",
    "edges = []\n",
    "for row in rows:\n",
    "    edges.append(row)\n",
    "for s in edges:\n",
    "    print(s)"
   ]
  },
  {
   "cell_type": "code",
   "execution_count": 6,
   "metadata": {
    "collapsed": true
   },
   "outputs": [],
   "source": [
    "# initialize a temp_list where all paths will be stored\n",
    "\n",
    "temp_list = []"
   ]
  },
  {
   "cell_type": "code",
   "execution_count": 7,
   "metadata": {
    "collapsed": true
   },
   "outputs": [],
   "source": [
    "# function rec (recursive) gets a node and expands the path on next nodes where there is \n",
    "# an edge to connect them and any cycle of length 2 or 3 is avoided.\n",
    "\n",
    "# rec function returns no values, but fills a list of tuples containing\n",
    "# starting_node,end_node,distance,path\n",
    "\n",
    "def rec(node_b,starting_node,node_a=None,previous_node=None,distance=0,path=''):\n",
    "    for i in edges:\n",
    "        if i[0]==node_b and i[1]!=previous_node and i[1]!=node_a:\n",
    "            rec(i[1],starting_node,i[0],node_a,distance+i[2],path+ ' -> ' +i[1])\n",
    "            temp_list.append((starting_node,i[1],distance+i[2],path))"
   ]
  },
  {
   "cell_type": "code",
   "execution_count": 8,
   "metadata": {
    "collapsed": true,
    "scrolled": false
   },
   "outputs": [],
   "source": [
    "# run rec function for all nodes formulating an edge\n",
    "\n",
    "for j in edges:\n",
    "    rec(j[0],j[0])\n",
    "\n",
    "# temp_list is now full of tupples\n"
   ]
  },
  {
   "cell_type": "code",
   "execution_count": 9,
   "metadata": {},
   "outputs": [
    {
     "name": "stdout",
     "output_type": "stream",
     "text": [
      "Path with longest dinstance in graph is:\n",
      "\n",
      " GadgetWorks -> Gizmo Corp -> DooHickey Collective -> AUEB -> Gadget Corp -> DooHickey Corp -> DooHickeyWorks -> Thing Industries -> GadgetCo -> Widget Collective -> DooHickeyCo -> Thing Corp -> GizmoCo-> ThingWorks \n",
      "\n",
      "This path connects  GadgetWorks  with  ThingWorks and its distance is  63 .\n"
     ]
    }
   ],
   "source": [
    "\n",
    "total_distance = 0\n",
    "start = ''\n",
    "end = ''\n",
    "path = ''\n",
    "\n",
    "for s in temp_list:\n",
    "    if s[2] > total_distance:\n",
    "        total_distance = s[2]\n",
    "        start = s[0]\n",
    "        end = s[1]\n",
    "        path = start + s[3] + '-> '+ end\n",
    "        \n",
    "print('Path with longest dinstance in graph is:\\n\\n',path,'\\n')\n",
    "print('This path connects ',start,' with ',end, 'and its distance is ',total_distance,'.')"
   ]
  }
 ],
 "metadata": {
  "kernelspec": {
   "display_name": "Python 3",
   "language": "python",
   "name": "python3"
  },
  "language_info": {
   "codemirror_mode": {
    "name": "ipython",
    "version": 3
   },
   "file_extension": ".py",
   "mimetype": "text/x-python",
   "name": "python",
   "nbconvert_exporter": "python",
   "pygments_lexer": "ipython3",
   "version": "3.6.3"
  }
 },
 "nbformat": 4,
 "nbformat_minor": 2
}
